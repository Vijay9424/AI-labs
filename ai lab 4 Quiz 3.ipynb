{
  "nbformat": 4,
  "nbformat_minor": 0,
  "metadata": {
    "colab": {
      "provenance": []
    },
    "kernelspec": {
      "name": "ir",
      "display_name": "R"
    },
    "language_info": {
      "name": "R"
    }
  },
  "cells": [
    {
      "cell_type": "code",
      "source": [
        "install.packages(\"e1071\")"
      ],
      "metadata": {
        "colab": {
          "base_uri": "https://localhost:8080/"
        },
        "id": "JNHgbP5nKFey",
        "outputId": "4e232d55-04d4-4ced-d1fc-013e8af5807a"
      },
      "execution_count": null,
      "outputs": [
        {
          "output_type": "stream",
          "name": "stderr",
          "text": [
            "Installing package into ‘/usr/local/lib/R/site-library’\n",
            "(as ‘lib’ is unspecified)\n",
            "\n",
            "also installing the dependency ‘proxy’\n",
            "\n",
            "\n"
          ]
        }
      ]
    },
    {
      "cell_type": "code",
      "source": [
        "library(e1071)\n",
        "\n",
        "data <- read.table(\"/content/2020_bn_nb_data.txt\", header=TRUE, sep=\"\\t\")\n",
        "\n",
        "data[] <- lapply(data, as.factor)\n",
        "\n",
        "\n",
        "set.seed(123)\n",
        "trainIndex <- sample(1:nrow(data), 0.7 * nrow(data))\n",
        "trainData <- data[trainIndex, ]\n",
        "testData <- data[-trainIndex, ]\n",
        "\n",
        "model <- naiveBayes(QP ~ ., data = trainData)\n",
        "\n",
        "predictions <- predict(model, testData)\n",
        "\n",
        "table(predictions, testData$QP)\n",
        "accuracy <- sum(predictions == testData$QP) / nrow(testData)\n",
        "print(paste(\"Accuracy:\", accuracy))\n"
      ],
      "metadata": {
        "colab": {
          "base_uri": "https://localhost:8080/",
          "height": 104
        },
        "id": "TVbd6NrjKYgD",
        "outputId": "2cfe4f89-9ecf-4d43-e7ae-c4cd81197563"
      },
      "execution_count": null,
      "outputs": [
        {
          "output_type": "display_data",
          "data": {
            "text/plain": [
              "           \n",
              "predictions  n  y\n",
              "          n 20  1\n",
              "          y  1 48"
            ]
          },
          "metadata": {}
        },
        {
          "output_type": "stream",
          "name": "stdout",
          "text": [
            "[1] \"Accuracy: 0.971428571428571\"\n"
          ]
        }
      ]
    },
    {
      "cell_type": "code",
      "source": [
        "install.packages(\"bnlearn\")\n"
      ],
      "metadata": {
        "colab": {
          "base_uri": "https://localhost:8080/"
        },
        "id": "AlAEK2zMKfDY",
        "outputId": "211463a9-88ed-47b9-da19-29ee7f4e8b55"
      },
      "execution_count": null,
      "outputs": [
        {
          "output_type": "stream",
          "name": "stderr",
          "text": [
            "Installing package into ‘/usr/local/lib/R/site-library’\n",
            "(as ‘lib’ is unspecified)\n",
            "\n"
          ]
        }
      ]
    },
    {
      "cell_type": "code",
      "source": [
        "library(bnlearn)\n",
        "\n",
        "data <- read.table(\"/content/2020_bn_nb_data.txt\", header = TRUE, sep = \"\\t\")\n",
        "\n",
        "\n",
        "data[] <- lapply(data, as.factor)\n",
        "\n",
        "bn <- hc(data)\n",
        "\n",
        "plot(bn)\n",
        "\n",
        "fitted_bn <- bn.fit(bn, data)\n",
        "\n",
        "print(fitted_bn)\n"
      ],
      "metadata": {
        "colab": {
          "base_uri": "https://localhost:8080/",
          "height": 1000
        },
        "id": "2jbgBgpSKqK6",
        "outputId": "126f4db1-d601-4aca-e73f-c60bde5426f7"
      },
      "execution_count": null,
      "outputs": [
        {
          "output_type": "stream",
          "name": "stdout",
          "text": [
            "\n",
            "  Bayesian network parameters\n",
            "\n",
            "  Parameters of node EC100 (multinomial distribution)\n",
            "\n",
            "Conditional probability table:\n",
            "         AA         AB         BB         BC         CC         CD         DD \n",
            "0.03017241 0.09482759 0.15086207 0.20689655 0.15517241 0.12500000 0.08620690 \n",
            "         F \n",
            "0.15086207 \n",
            "\n",
            "  Parameters of node EC160 (multinomial distribution)\n",
            "\n",
            "Conditional probability table:\n",
            " \n",
            "     QP\n",
            "EC160          n          y\n",
            "   AA 0.00000000 0.07500000\n",
            "   AB 0.00000000 0.10000000\n",
            "   BB 0.01388889 0.18750000\n",
            "   BC 0.01388889 0.36250000\n",
            "   CC 0.15277778 0.22500000\n",
            "   CD 0.44444444 0.03125000\n",
            "   DD 0.26388889 0.01875000\n",
            "   F  0.11111111 0.00000000\n",
            "\n",
            "  Parameters of node IT101 (multinomial distribution)\n",
            "\n",
            "Conditional probability table:\n",
            " \n",
            "     QP\n",
            "IT101          n          y\n",
            "   AA 0.00000000 0.07500000\n",
            "   AB 0.00000000 0.15625000\n",
            "   BB 0.04166667 0.19375000\n",
            "   BC 0.02777778 0.29375000\n",
            "   CC 0.13888889 0.20000000\n",
            "   CD 0.30555556 0.08125000\n",
            "   DD 0.31944444 0.00000000\n",
            "   F  0.16666667 0.00000000\n",
            "\n",
            "  Parameters of node IT161 (multinomial distribution)\n",
            "\n",
            "Conditional probability table:\n",
            " \n",
            "     QP\n",
            "IT161          n          y\n",
            "   AA 0.00000000 0.12500000\n",
            "   AB 0.01388889 0.15000000\n",
            "   BB 0.01388889 0.21250000\n",
            "   BC 0.05555556 0.28125000\n",
            "   CC 0.20833333 0.16875000\n",
            "   CD 0.36111111 0.05625000\n",
            "   DD 0.30555556 0.00625000\n",
            "   F  0.04166667 0.00000000\n",
            "\n",
            "  Parameters of node MA101 (multinomial distribution)\n",
            "\n",
            "Conditional probability table:\n",
            " \n",
            "     QP\n",
            "MA101          n          y\n",
            "   AA 0.00000000 0.02500000\n",
            "   AB 0.00000000 0.08125000\n",
            "   BB 0.00000000 0.32500000\n",
            "   BC 0.08333333 0.30000000\n",
            "   CC 0.13888889 0.24375000\n",
            "   CD 0.29166667 0.01875000\n",
            "   DD 0.27777778 0.00625000\n",
            "   F  0.20833333 0.00000000\n",
            "\n",
            "  Parameters of node PH100 (multinomial distribution)\n",
            "\n",
            "Conditional probability table:\n",
            " \n",
            "     QP\n",
            "PH100          n          y\n",
            "   AA 0.00000000 0.16250000\n",
            "   AB 0.00000000 0.16250000\n",
            "   BB 0.01388889 0.21875000\n",
            "   BC 0.02777778 0.20000000\n",
            "   CC 0.12500000 0.19375000\n",
            "   CD 0.27777778 0.06250000\n",
            "   DD 0.33333333 0.00000000\n",
            "   F  0.22222222 0.00000000\n",
            "\n",
            "  Parameters of node PH160 (multinomial distribution)\n",
            "\n",
            "Conditional probability table:\n",
            " \n",
            "     QP\n",
            "PH160          n          y\n",
            "   AA 0.05555556 0.14375000\n",
            "   AB 0.09722222 0.15625000\n",
            "   BB 0.02777778 0.17500000\n",
            "   BC 0.18055556 0.34375000\n",
            "   CC 0.29166667 0.13750000\n",
            "   CD 0.19444444 0.04375000\n",
            "   DD 0.12500000 0.00000000\n",
            "   F  0.02777778 0.00000000\n",
            "\n",
            "  Parameters of node HS101 (multinomial distribution)\n",
            "\n",
            "Conditional probability table:\n",
            " \n",
            "     QP\n",
            "HS101          n          y\n",
            "   AA 0.00000000 0.26250000\n",
            "   AB 0.00000000 0.21250000\n",
            "   BB 0.05555556 0.22500000\n",
            "   BC 0.12500000 0.16875000\n",
            "   CC 0.18055556 0.08125000\n",
            "   CD 0.19444444 0.03750000\n",
            "   DD 0.37500000 0.01250000\n",
            "   F  0.06944444 0.00000000\n",
            "\n",
            "  Parameters of node QP (multinomial distribution)\n",
            "\n",
            "Conditional probability table:\n",
            " \n",
            "   EC100\n",
            "QP         AA        AB        BB        BC        CC        CD        DD\n",
            "  n 0.0000000 0.0000000 0.0000000 0.0000000 0.1388889 0.4482759 0.9500000\n",
            "  y 1.0000000 1.0000000 1.0000000 1.0000000 0.8611111 0.5517241 0.0500000\n",
            "   EC100\n",
            "QP          F\n",
            "  n 1.0000000\n",
            "  y 0.0000000\n",
            "\n"
          ]
        },
        {
          "output_type": "display_data",
          "data": {
            "text/plain": [
              "plot without title"
            ],
            "image/png": "[encoded data removed]"
          },
          "metadata": {
            "image/png": {
              "width": 420,
              "height": 420
            }
          }
        }
      ]
    }
  ]
}